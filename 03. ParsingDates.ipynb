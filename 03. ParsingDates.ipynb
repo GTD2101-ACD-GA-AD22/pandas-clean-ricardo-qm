{
  "cells": [
    {
      "cell_type": "markdown",
      "metadata": {
        "id": "view-in-github",
        "colab_type": "text"
      },
      "source": [
        "<a href=\"https://colab.research.google.com/github/GTD2101-ACD-GA-AD22/pandas-clean-ricardo-qm/blob/main/03.%20ParsingDates.ipynb\" target=\"_parent\"><img src=\"https://colab.research.google.com/assets/colab-badge.svg\" alt=\"Open In Colab\"/></a>"
      ]
    },
    {
      "cell_type": "markdown",
      "metadata": {
        "id": "258CqLABxfXB"
      },
      "source": [
        "# Parsing de Fechas\n",
        "\n",
        "En este JNB se revisará el tema de Parsing de Fechas."
      ]
    },
    {
      "cell_type": "code",
      "execution_count": 1,
      "metadata": {
        "id": "O8NoTzxjs2wK"
      },
      "outputs": [],
      "source": [
        "# modules we'll use\n",
        "import pandas as pd\n",
        "import numpy as np\n",
        "import seaborn as sns\n",
        "import datetime\n",
        "\n",
        "# read in our data\n",
        "landslides = pd.read_csv(\"https://raw.githubusercontent.com/GTD2101-ACD-GA-AD22/pandas-clean-ricardo-qm/main/data/catalog.csv\")\n",
        "\n",
        "# set seed for reproducibility\n",
        "np.random.seed(0)"
      ]
    },
    {
      "cell_type": "code",
      "source": [
        "landslides"
      ],
      "metadata": {
        "id": "nCRZSw3SyJBx",
        "outputId": "7f0a975d-9feb-423d-b36b-e85cde3b64b0",
        "colab": {
          "base_uri": "https://localhost:8080/",
          "height": 731
        }
      },
      "execution_count": 2,
      "outputs": [
        {
          "output_type": "execute_result",
          "data": {
            "text/plain": [
              "        id     date   time continent_code   country_name country_code  \\\n",
              "0       34   3/2/07  Night            NaN  United States           US   \n",
              "1       42  3/22/07    NaN            NaN  United States           US   \n",
              "2       56   4/6/07    NaN            NaN  United States           US   \n",
              "3       59  4/14/07    NaN            NaN         Canada           CA   \n",
              "4       61  4/15/07    NaN            NaN  United States           US   \n",
              "...    ...      ...    ...            ...            ...          ...   \n",
              "1688  7535  12/7/15    NaN            NaN  United States           US   \n",
              "1689  7537  2/22/16   0:00            NaN  United States           US   \n",
              "1690  7539  2/23/16    NaN            NaN  United States           US   \n",
              "1691  7540  2/26/16  21:06            NaN  United States           US   \n",
              "1692  7541   3/2/16   8:00            NaN  United States           US   \n",
              "\n",
              "      state/province  population         city/town  distance  ...  \\\n",
              "0           Virginia       16000       Cherry Hill   3.40765  ...   \n",
              "1               Ohio       17288  New Philadelphia   3.33522  ...   \n",
              "2       Pennsylvania       15930       Wilkinsburg   2.91977  ...   \n",
              "3             Quebec       42786       Châteauguay   2.98682  ...   \n",
              "4           Kentucky        6903         Pikeville   5.66542  ...   \n",
              "...              ...         ...               ...       ...  ...   \n",
              "1688  North Carolina        1646             Tryon   7.80866  ...   \n",
              "1689   West Virginia       51400        Charleston   6.84721  ...   \n",
              "1690   West Virginia        2406             Welch  14.19735  ...   \n",
              "1691   West Virginia        1048            Athens  12.00678  ...   \n",
              "1692         Vermont        2066           Windsor   1.78429  ...   \n",
              "\n",
              "                                    geolocation  hazard_type  \\\n",
              "0     (38.600900000000003, -77.268199999999993)    Landslide   \n",
              "1     (40.517499999999998, -81.430499999999995)    Landslide   \n",
              "2                (40.4377, -79.915999999999997)    Landslide   \n",
              "3     (45.322600000000001, -73.777100000000004)    Landslide   \n",
              "4     (37.432499999999997, -82.493099999999998)    Landslide   \n",
              "...                                         ...          ...   \n",
              "1688  (35.221899999999998, -82.322599999999994)    Landslide   \n",
              "1689  (38.398699999999998, -81.584800000000001)    Landslide   \n",
              "1690             (37.409599999999998, -81.4268)    Landslide   \n",
              "1691  (37.501100000000001, -81.109300000000005)    Landslide   \n",
              "1692             (43.4771, -72.406599999999997)    Landslide   \n",
              "\n",
              "          landslide_type landslide_size   trigger storm_name injuries  \\\n",
              "0              Landslide          Small      Rain        NaN      NaN   \n",
              "1              Landslide          Small      Rain        NaN      NaN   \n",
              "2              Landslide          Small      Rain        NaN      NaN   \n",
              "3     Riverbank collapse          Small      Rain        NaN      NaN   \n",
              "4              Landslide          Small  Downpour        NaN      NaN   \n",
              "...                  ...            ...       ...        ...      ...   \n",
              "1688            Rockfall          Small       NaN        NaN      0.0   \n",
              "1689            Mudslide          Small   Unknown        NaN      0.0   \n",
              "1690           Landslide          Small      Rain        NaN      0.0   \n",
              "1691            Rockfall          Small   Unknown        NaN      0.0   \n",
              "1692            Rockfall          Small   Unknown        NaN      0.0   \n",
              "\n",
              "     fatalities                 source_name  \\\n",
              "0           NaN                  NBC 4 news   \n",
              "1           NaN              Canton Rep.com   \n",
              "2           NaN  The Pittsburgh Channel.com   \n",
              "3           NaN                   Le Soleil   \n",
              "4           0.0      Matthew Crawford (KGS)   \n",
              "...         ...                         ...   \n",
              "1688        0.0        Tryon Daily Bulletin   \n",
              "1689        0.0          Charleston Gazette   \n",
              "1690        0.0   Bluefield Daily Telegraph   \n",
              "1691        0.0   Bluefield Daily Telegraph   \n",
              "1692        0.0                 Valley News   \n",
              "\n",
              "                                            source_link  \n",
              "0         http://www.nbc4.com/news/11186871/detail.html  \n",
              "1     http://www.cantonrep.com/index.php?ID=345054&C...  \n",
              "2     https://web.archive.org/web/20080423132842/htt...  \n",
              "3     http://www.hebdos.net/lsc/edition162007/articl...  \n",
              "4                                                   NaN  \n",
              "...                                                 ...  \n",
              "1688  http://www.tryondailybulletin.com/2016/02/26/u...  \n",
              "1689  http://www.wvgazettemail.com/news/20160222/us-...  \n",
              "1690  http://www.bdtonline.com/news/officials-cautio...  \n",
              "1691  http://www.bdtonline.com/news/rockslide-snarls...  \n",
              "1692  http://www.vnews.com/home/21353539-95/loose-ledge  \n",
              "\n",
              "[1693 rows x 23 columns]"
            ],
            "text/html": [
              "\n",
              "  <div id=\"df-e412c7ab-6a0b-42f0-a60e-3b1fcd6382c6\">\n",
              "    <div class=\"colab-df-container\">\n",
              "      <div>\n",
              "<style scoped>\n",
              "    .dataframe tbody tr th:only-of-type {\n",
              "        vertical-align: middle;\n",
              "    }\n",
              "\n",
              "    .dataframe tbody tr th {\n",
              "        vertical-align: top;\n",
              "    }\n",
              "\n",
              "    .dataframe thead th {\n",
              "        text-align: right;\n",
              "    }\n",
              "</style>\n",
              "<table border=\"1\" class=\"dataframe\">\n",
              "  <thead>\n",
              "    <tr style=\"text-align: right;\">\n",
              "      <th></th>\n",
              "      <th>id</th>\n",
              "      <th>date</th>\n",
              "      <th>time</th>\n",
              "      <th>continent_code</th>\n",
              "      <th>country_name</th>\n",
              "      <th>country_code</th>\n",
              "      <th>state/province</th>\n",
              "      <th>population</th>\n",
              "      <th>city/town</th>\n",
              "      <th>distance</th>\n",
              "      <th>...</th>\n",
              "      <th>geolocation</th>\n",
              "      <th>hazard_type</th>\n",
              "      <th>landslide_type</th>\n",
              "      <th>landslide_size</th>\n",
              "      <th>trigger</th>\n",
              "      <th>storm_name</th>\n",
              "      <th>injuries</th>\n",
              "      <th>fatalities</th>\n",
              "      <th>source_name</th>\n",
              "      <th>source_link</th>\n",
              "    </tr>\n",
              "  </thead>\n",
              "  <tbody>\n",
              "    <tr>\n",
              "      <th>0</th>\n",
              "      <td>34</td>\n",
              "      <td>3/2/07</td>\n",
              "      <td>Night</td>\n",
              "      <td>NaN</td>\n",
              "      <td>United States</td>\n",
              "      <td>US</td>\n",
              "      <td>Virginia</td>\n",
              "      <td>16000</td>\n",
              "      <td>Cherry Hill</td>\n",
              "      <td>3.40765</td>\n",
              "      <td>...</td>\n",
              "      <td>(38.600900000000003, -77.268199999999993)</td>\n",
              "      <td>Landslide</td>\n",
              "      <td>Landslide</td>\n",
              "      <td>Small</td>\n",
              "      <td>Rain</td>\n",
              "      <td>NaN</td>\n",
              "      <td>NaN</td>\n",
              "      <td>NaN</td>\n",
              "      <td>NBC 4 news</td>\n",
              "      <td>http://www.nbc4.com/news/11186871/detail.html</td>\n",
              "    </tr>\n",
              "    <tr>\n",
              "      <th>1</th>\n",
              "      <td>42</td>\n",
              "      <td>3/22/07</td>\n",
              "      <td>NaN</td>\n",
              "      <td>NaN</td>\n",
              "      <td>United States</td>\n",
              "      <td>US</td>\n",
              "      <td>Ohio</td>\n",
              "      <td>17288</td>\n",
              "      <td>New Philadelphia</td>\n",
              "      <td>3.33522</td>\n",
              "      <td>...</td>\n",
              "      <td>(40.517499999999998, -81.430499999999995)</td>\n",
              "      <td>Landslide</td>\n",
              "      <td>Landslide</td>\n",
              "      <td>Small</td>\n",
              "      <td>Rain</td>\n",
              "      <td>NaN</td>\n",
              "      <td>NaN</td>\n",
              "      <td>NaN</td>\n",
              "      <td>Canton Rep.com</td>\n",
              "      <td>http://www.cantonrep.com/index.php?ID=345054&amp;C...</td>\n",
              "    </tr>\n",
              "    <tr>\n",
              "      <th>2</th>\n",
              "      <td>56</td>\n",
              "      <td>4/6/07</td>\n",
              "      <td>NaN</td>\n",
              "      <td>NaN</td>\n",
              "      <td>United States</td>\n",
              "      <td>US</td>\n",
              "      <td>Pennsylvania</td>\n",
              "      <td>15930</td>\n",
              "      <td>Wilkinsburg</td>\n",
              "      <td>2.91977</td>\n",
              "      <td>...</td>\n",
              "      <td>(40.4377, -79.915999999999997)</td>\n",
              "      <td>Landslide</td>\n",
              "      <td>Landslide</td>\n",
              "      <td>Small</td>\n",
              "      <td>Rain</td>\n",
              "      <td>NaN</td>\n",
              "      <td>NaN</td>\n",
              "      <td>NaN</td>\n",
              "      <td>The Pittsburgh Channel.com</td>\n",
              "      <td>https://web.archive.org/web/20080423132842/htt...</td>\n",
              "    </tr>\n",
              "    <tr>\n",
              "      <th>3</th>\n",
              "      <td>59</td>\n",
              "      <td>4/14/07</td>\n",
              "      <td>NaN</td>\n",
              "      <td>NaN</td>\n",
              "      <td>Canada</td>\n",
              "      <td>CA</td>\n",
              "      <td>Quebec</td>\n",
              "      <td>42786</td>\n",
              "      <td>Châteauguay</td>\n",
              "      <td>2.98682</td>\n",
              "      <td>...</td>\n",
              "      <td>(45.322600000000001, -73.777100000000004)</td>\n",
              "      <td>Landslide</td>\n",
              "      <td>Riverbank collapse</td>\n",
              "      <td>Small</td>\n",
              "      <td>Rain</td>\n",
              "      <td>NaN</td>\n",
              "      <td>NaN</td>\n",
              "      <td>NaN</td>\n",
              "      <td>Le Soleil</td>\n",
              "      <td>http://www.hebdos.net/lsc/edition162007/articl...</td>\n",
              "    </tr>\n",
              "    <tr>\n",
              "      <th>4</th>\n",
              "      <td>61</td>\n",
              "      <td>4/15/07</td>\n",
              "      <td>NaN</td>\n",
              "      <td>NaN</td>\n",
              "      <td>United States</td>\n",
              "      <td>US</td>\n",
              "      <td>Kentucky</td>\n",
              "      <td>6903</td>\n",
              "      <td>Pikeville</td>\n",
              "      <td>5.66542</td>\n",
              "      <td>...</td>\n",
              "      <td>(37.432499999999997, -82.493099999999998)</td>\n",
              "      <td>Landslide</td>\n",
              "      <td>Landslide</td>\n",
              "      <td>Small</td>\n",
              "      <td>Downpour</td>\n",
              "      <td>NaN</td>\n",
              "      <td>NaN</td>\n",
              "      <td>0.0</td>\n",
              "      <td>Matthew Crawford (KGS)</td>\n",
              "      <td>NaN</td>\n",
              "    </tr>\n",
              "    <tr>\n",
              "      <th>...</th>\n",
              "      <td>...</td>\n",
              "      <td>...</td>\n",
              "      <td>...</td>\n",
              "      <td>...</td>\n",
              "      <td>...</td>\n",
              "      <td>...</td>\n",
              "      <td>...</td>\n",
              "      <td>...</td>\n",
              "      <td>...</td>\n",
              "      <td>...</td>\n",
              "      <td>...</td>\n",
              "      <td>...</td>\n",
              "      <td>...</td>\n",
              "      <td>...</td>\n",
              "      <td>...</td>\n",
              "      <td>...</td>\n",
              "      <td>...</td>\n",
              "      <td>...</td>\n",
              "      <td>...</td>\n",
              "      <td>...</td>\n",
              "      <td>...</td>\n",
              "    </tr>\n",
              "    <tr>\n",
              "      <th>1688</th>\n",
              "      <td>7535</td>\n",
              "      <td>12/7/15</td>\n",
              "      <td>NaN</td>\n",
              "      <td>NaN</td>\n",
              "      <td>United States</td>\n",
              "      <td>US</td>\n",
              "      <td>North Carolina</td>\n",
              "      <td>1646</td>\n",
              "      <td>Tryon</td>\n",
              "      <td>7.80866</td>\n",
              "      <td>...</td>\n",
              "      <td>(35.221899999999998, -82.322599999999994)</td>\n",
              "      <td>Landslide</td>\n",
              "      <td>Rockfall</td>\n",
              "      <td>Small</td>\n",
              "      <td>NaN</td>\n",
              "      <td>NaN</td>\n",
              "      <td>0.0</td>\n",
              "      <td>0.0</td>\n",
              "      <td>Tryon Daily Bulletin</td>\n",
              "      <td>http://www.tryondailybulletin.com/2016/02/26/u...</td>\n",
              "    </tr>\n",
              "    <tr>\n",
              "      <th>1689</th>\n",
              "      <td>7537</td>\n",
              "      <td>2/22/16</td>\n",
              "      <td>0:00</td>\n",
              "      <td>NaN</td>\n",
              "      <td>United States</td>\n",
              "      <td>US</td>\n",
              "      <td>West Virginia</td>\n",
              "      <td>51400</td>\n",
              "      <td>Charleston</td>\n",
              "      <td>6.84721</td>\n",
              "      <td>...</td>\n",
              "      <td>(38.398699999999998, -81.584800000000001)</td>\n",
              "      <td>Landslide</td>\n",
              "      <td>Mudslide</td>\n",
              "      <td>Small</td>\n",
              "      <td>Unknown</td>\n",
              "      <td>NaN</td>\n",
              "      <td>0.0</td>\n",
              "      <td>0.0</td>\n",
              "      <td>Charleston Gazette</td>\n",
              "      <td>http://www.wvgazettemail.com/news/20160222/us-...</td>\n",
              "    </tr>\n",
              "    <tr>\n",
              "      <th>1690</th>\n",
              "      <td>7539</td>\n",
              "      <td>2/23/16</td>\n",
              "      <td>NaN</td>\n",
              "      <td>NaN</td>\n",
              "      <td>United States</td>\n",
              "      <td>US</td>\n",
              "      <td>West Virginia</td>\n",
              "      <td>2406</td>\n",
              "      <td>Welch</td>\n",
              "      <td>14.19735</td>\n",
              "      <td>...</td>\n",
              "      <td>(37.409599999999998, -81.4268)</td>\n",
              "      <td>Landslide</td>\n",
              "      <td>Landslide</td>\n",
              "      <td>Small</td>\n",
              "      <td>Rain</td>\n",
              "      <td>NaN</td>\n",
              "      <td>0.0</td>\n",
              "      <td>0.0</td>\n",
              "      <td>Bluefield Daily Telegraph</td>\n",
              "      <td>http://www.bdtonline.com/news/officials-cautio...</td>\n",
              "    </tr>\n",
              "    <tr>\n",
              "      <th>1691</th>\n",
              "      <td>7540</td>\n",
              "      <td>2/26/16</td>\n",
              "      <td>21:06</td>\n",
              "      <td>NaN</td>\n",
              "      <td>United States</td>\n",
              "      <td>US</td>\n",
              "      <td>West Virginia</td>\n",
              "      <td>1048</td>\n",
              "      <td>Athens</td>\n",
              "      <td>12.00678</td>\n",
              "      <td>...</td>\n",
              "      <td>(37.501100000000001, -81.109300000000005)</td>\n",
              "      <td>Landslide</td>\n",
              "      <td>Rockfall</td>\n",
              "      <td>Small</td>\n",
              "      <td>Unknown</td>\n",
              "      <td>NaN</td>\n",
              "      <td>0.0</td>\n",
              "      <td>0.0</td>\n",
              "      <td>Bluefield Daily Telegraph</td>\n",
              "      <td>http://www.bdtonline.com/news/rockslide-snarls...</td>\n",
              "    </tr>\n",
              "    <tr>\n",
              "      <th>1692</th>\n",
              "      <td>7541</td>\n",
              "      <td>3/2/16</td>\n",
              "      <td>8:00</td>\n",
              "      <td>NaN</td>\n",
              "      <td>United States</td>\n",
              "      <td>US</td>\n",
              "      <td>Vermont</td>\n",
              "      <td>2066</td>\n",
              "      <td>Windsor</td>\n",
              "      <td>1.78429</td>\n",
              "      <td>...</td>\n",
              "      <td>(43.4771, -72.406599999999997)</td>\n",
              "      <td>Landslide</td>\n",
              "      <td>Rockfall</td>\n",
              "      <td>Small</td>\n",
              "      <td>Unknown</td>\n",
              "      <td>NaN</td>\n",
              "      <td>0.0</td>\n",
              "      <td>0.0</td>\n",
              "      <td>Valley News</td>\n",
              "      <td>http://www.vnews.com/home/21353539-95/loose-ledge</td>\n",
              "    </tr>\n",
              "  </tbody>\n",
              "</table>\n",
              "<p>1693 rows × 23 columns</p>\n",
              "</div>\n",
              "      <button class=\"colab-df-convert\" onclick=\"convertToInteractive('df-e412c7ab-6a0b-42f0-a60e-3b1fcd6382c6')\"\n",
              "              title=\"Convert this dataframe to an interactive table.\"\n",
              "              style=\"display:none;\">\n",
              "        \n",
              "  <svg xmlns=\"http://www.w3.org/2000/svg\" height=\"24px\"viewBox=\"0 0 24 24\"\n",
              "       width=\"24px\">\n",
              "    <path d=\"M0 0h24v24H0V0z\" fill=\"none\"/>\n",
              "    <path d=\"M18.56 5.44l.94 2.06.94-2.06 2.06-.94-2.06-.94-.94-2.06-.94 2.06-2.06.94zm-11 1L8.5 8.5l.94-2.06 2.06-.94-2.06-.94L8.5 2.5l-.94 2.06-2.06.94zm10 10l.94 2.06.94-2.06 2.06-.94-2.06-.94-.94-2.06-.94 2.06-2.06.94z\"/><path d=\"M17.41 7.96l-1.37-1.37c-.4-.4-.92-.59-1.43-.59-.52 0-1.04.2-1.43.59L10.3 9.45l-7.72 7.72c-.78.78-.78 2.05 0 2.83L4 21.41c.39.39.9.59 1.41.59.51 0 1.02-.2 1.41-.59l7.78-7.78 2.81-2.81c.8-.78.8-2.07 0-2.86zM5.41 20L4 18.59l7.72-7.72 1.47 1.35L5.41 20z\"/>\n",
              "  </svg>\n",
              "      </button>\n",
              "      \n",
              "  <style>\n",
              "    .colab-df-container {\n",
              "      display:flex;\n",
              "      flex-wrap:wrap;\n",
              "      gap: 12px;\n",
              "    }\n",
              "\n",
              "    .colab-df-convert {\n",
              "      background-color: #E8F0FE;\n",
              "      border: none;\n",
              "      border-radius: 50%;\n",
              "      cursor: pointer;\n",
              "      display: none;\n",
              "      fill: #1967D2;\n",
              "      height: 32px;\n",
              "      padding: 0 0 0 0;\n",
              "      width: 32px;\n",
              "    }\n",
              "\n",
              "    .colab-df-convert:hover {\n",
              "      background-color: #E2EBFA;\n",
              "      box-shadow: 0px 1px 2px rgba(60, 64, 67, 0.3), 0px 1px 3px 1px rgba(60, 64, 67, 0.15);\n",
              "      fill: #174EA6;\n",
              "    }\n",
              "\n",
              "    [theme=dark] .colab-df-convert {\n",
              "      background-color: #3B4455;\n",
              "      fill: #D2E3FC;\n",
              "    }\n",
              "\n",
              "    [theme=dark] .colab-df-convert:hover {\n",
              "      background-color: #434B5C;\n",
              "      box-shadow: 0px 1px 3px 1px rgba(0, 0, 0, 0.15);\n",
              "      filter: drop-shadow(0px 1px 2px rgba(0, 0, 0, 0.3));\n",
              "      fill: #FFFFFF;\n",
              "    }\n",
              "  </style>\n",
              "\n",
              "      <script>\n",
              "        const buttonEl =\n",
              "          document.querySelector('#df-e412c7ab-6a0b-42f0-a60e-3b1fcd6382c6 button.colab-df-convert');\n",
              "        buttonEl.style.display =\n",
              "          google.colab.kernel.accessAllowed ? 'block' : 'none';\n",
              "\n",
              "        async function convertToInteractive(key) {\n",
              "          const element = document.querySelector('#df-e412c7ab-6a0b-42f0-a60e-3b1fcd6382c6');\n",
              "          const dataTable =\n",
              "            await google.colab.kernel.invokeFunction('convertToInteractive',\n",
              "                                                     [key], {});\n",
              "          if (!dataTable) return;\n",
              "\n",
              "          const docLinkHtml = 'Like what you see? Visit the ' +\n",
              "            '<a target=\"_blank\" href=https://colab.research.google.com/notebooks/data_table.ipynb>data table notebook</a>'\n",
              "            + ' to learn more about interactive tables.';\n",
              "          element.innerHTML = '';\n",
              "          dataTable['output_type'] = 'display_data';\n",
              "          await google.colab.output.renderOutput(dataTable, element);\n",
              "          const docLink = document.createElement('div');\n",
              "          docLink.innerHTML = docLinkHtml;\n",
              "          element.appendChild(docLink);\n",
              "        }\n",
              "      </script>\n",
              "    </div>\n",
              "  </div>\n",
              "  "
            ]
          },
          "metadata": {},
          "execution_count": 2
        }
      ]
    },
    {
      "cell_type": "markdown",
      "source": [
        "# Verificar el tipo de dato de la columna fecha\n",
        "\n",
        "Lo primero que hay que asegurarnos es que la columna fecha tenga un tipo de dato adecuado."
      ],
      "metadata": {
        "id": "KDwj2hcFySoT"
      }
    },
    {
      "cell_type": "code",
      "source": [
        "# print the first few rows of the date column\n",
        "landslides['date'].head()"
      ],
      "metadata": {
        "id": "EhwUS0Olyadw",
        "outputId": "fab9f992-2bad-45ba-fd78-6e5019d0d32b",
        "colab": {
          "base_uri": "https://localhost:8080/"
        }
      },
      "execution_count": 6,
      "outputs": [
        {
          "output_type": "execute_result",
          "data": {
            "text/plain": [
              "0     3/2/07\n",
              "1    3/22/07\n",
              "2     4/6/07\n",
              "3    4/14/07\n",
              "4    4/15/07\n",
              "Name: date, dtype: object"
            ]
          },
          "metadata": {},
          "execution_count": 6
        }
      ]
    },
    {
      "cell_type": "code",
      "source": [
        "landslides.date.head()"
      ],
      "metadata": {
        "id": "uMINk6rTyoDY",
        "outputId": "7c6406e0-e6c4-42dc-bb38-9be739c022af",
        "colab": {
          "base_uri": "https://localhost:8080/"
        }
      },
      "execution_count": 5,
      "outputs": [
        {
          "output_type": "execute_result",
          "data": {
            "text/plain": [
              "0     3/2/07\n",
              "1    3/22/07\n",
              "2     4/6/07\n",
              "3    4/14/07\n",
              "4    4/15/07\n",
              "Name: date, dtype: object"
            ]
          },
          "metadata": {},
          "execution_count": 5
        }
      ]
    },
    {
      "cell_type": "markdown",
      "source": [
        "# Convirtiendo el tipo de la columna \"date\" a un tipo \"datetime\"\n",
        "\n",
        "Es mejor manejar la columna con un tipo \"datetime64\" para facilitar las operaciones con fechas."
      ],
      "metadata": {
        "id": "q2yCWpgSzcAt"
      }
    },
    {
      "cell_type": "code",
      "source": [
        "# create a new column, date_parsed, with the parsed dates\n",
        "landslides['date_parsed'] = pd.to_datetime(landslides['date'], format=\"%m/%d/%y\")"
      ],
      "metadata": {
        "id": "oWKRPDQ9zmZZ"
      },
      "execution_count": 7,
      "outputs": []
    },
    {
      "cell_type": "code",
      "source": [
        "landslides['date_parsed']"
      ],
      "metadata": {
        "id": "IOS6GyA80kyy",
        "outputId": "f5438b25-84ab-499e-88f5-68628284ba02",
        "colab": {
          "base_uri": "https://localhost:8080/"
        }
      },
      "execution_count": 12,
      "outputs": [
        {
          "output_type": "execute_result",
          "data": {
            "text/plain": [
              "0      2007-03-02\n",
              "1      2007-03-22\n",
              "2      2007-04-06\n",
              "3      2007-04-14\n",
              "4      2007-04-15\n",
              "          ...    \n",
              "1688   2015-12-07\n",
              "1689   2016-02-22\n",
              "1690   2016-02-23\n",
              "1691   2016-02-26\n",
              "1692   2016-03-02\n",
              "Name: date_parsed, Length: 1693, dtype: datetime64[ns]"
            ]
          },
          "metadata": {},
          "execution_count": 12
        }
      ]
    },
    {
      "cell_type": "markdown",
      "source": [
        "# Seleccionando el día de la fecha\n",
        "\n",
        "Con la columna recien creada es posible realizar operaciones de fechas de una manera más sencilla."
      ],
      "metadata": {
        "id": "BDfdqgdk1Wwa"
      }
    },
    {
      "cell_type": "code",
      "source": [
        "day_of_month_landslides = landslides['date_parsed'].dt.day\n",
        "\n",
        "day_of_month_landslides.head()"
      ],
      "metadata": {
        "id": "MZs6mKf41dKm",
        "outputId": "d9acc9ba-6032-47df-badf-60fa4868e887",
        "colab": {
          "base_uri": "https://localhost:8080/"
        }
      },
      "execution_count": 15,
      "outputs": [
        {
          "output_type": "execute_result",
          "data": {
            "text/plain": [
              "0     2.0\n",
              "1    22.0\n",
              "2     6.0\n",
              "3    14.0\n",
              "4    15.0\n",
              "Name: date_parsed, dtype: float64"
            ]
          },
          "metadata": {},
          "execution_count": 15
        }
      ]
    },
    {
      "cell_type": "code",
      "source": [
        "# remove na's\n",
        "day_of_month_landslides = day_of_month_landslides.dropna()\n",
        "\n",
        "# plot the day of the month\n",
        "sns.distplot(day_of_month_landslides, kde=False, bins=31)"
      ],
      "metadata": {
        "id": "16qCCWFk2g2b",
        "outputId": "ca378628-fc73-4454-d1a2-58bbeb6e258f",
        "colab": {
          "base_uri": "https://localhost:8080/",
          "height": 353
        }
      },
      "execution_count": 16,
      "outputs": [
        {
          "output_type": "stream",
          "name": "stderr",
          "text": [
            "/usr/local/lib/python3.7/dist-packages/seaborn/distributions.py:2619: FutureWarning: `distplot` is a deprecated function and will be removed in a future version. Please adapt your code to use either `displot` (a figure-level function with similar flexibility) or `histplot` (an axes-level function for histograms).\n",
            "  warnings.warn(msg, FutureWarning)\n"
          ]
        },
        {
          "output_type": "execute_result",
          "data": {
            "text/plain": [
              "<matplotlib.axes._subplots.AxesSubplot at 0x7feaf00ee4d0>"
            ]
          },
          "metadata": {},
          "execution_count": 16
        },
        {
          "output_type": "display_data",
          "data": {
            "text/plain": [
              "<Figure size 432x288 with 1 Axes>"
            ],
            "image/png": "[encoded data removed]"
          },
          "metadata": {
            "needs_background": "light"
          }
        }
      ]
    }
  ],
  "metadata": {
    "colab": {
      "provenance": [],
      "include_colab_link": true
    },
    "kernelspec": {
      "display_name": "Python 3.10.7 64-bit",
      "language": "python",
      "name": "python3"
    },
    "language_info": {
      "codemirror_mode": {
        "name": "ipython",
        "version": 3
      },
      "file_extension": ".py",
      "mimetype": "text/x-python",
      "name": "python",
      "nbconvert_exporter": "python",
      "pygments_lexer": "ipython3",
      "version": "3.10.7"
    },
    "orig_nbformat": 4,
    "vscode": {
      "interpreter": {
        "hash": "eb4a0ac80907d7f44e1a5e88d3d3381b33e3dbedd3a24d113e876f30a0c46bee"
      }
    }
  },
  "nbformat": 4,
  "nbformat_minor": 0
}